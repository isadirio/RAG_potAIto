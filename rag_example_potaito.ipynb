{
  "nbformat": 4,
  "nbformat_minor": 0,
  "metadata": {
    "colab": {
      "provenance": [],
      "authorship_tag": "ABX9TyPKmynsYqaYz2/eIiB+f63l",
      "include_colab_link": true
    },
    "kernelspec": {
      "name": "python3",
      "display_name": "Python 3"
    },
    "language_info": {
      "name": "python"
    }
  },
  "cells": [
    {
      "cell_type": "markdown",
      "metadata": {
        "id": "view-in-github",
        "colab_type": "text"
      },
      "source": [
        "<a href=\"https://colab.research.google.com/gist/isareply/4a05d65dd2b745d477a44be1011b3ae5/rag_example_potaito.ipynb\" target=\"_parent\"><img src=\"https://colab.research.google.com/assets/colab-badge.svg\" alt=\"Open In Colab\"/></a>"
      ]
    },
    {
      "cell_type": "markdown",
      "source": [
        "# Get the OpenAI API key\n",
        "My OpenAI API key is stored in the drive but you can get your own and substitute it directly to the variable ."
      ],
      "metadata": {
        "id": "fv7trJuncsnp"
      }
    },
    {
      "cell_type": "code",
      "source": [
        "#-- mounting Google drive\n",
        "from google.colab import drive\n",
        "drive.mount('/content/gdrive', force_remount=True)"
      ],
      "metadata": {
        "colab": {
          "base_uri": "https://localhost:8080/"
        },
        "id": "TxC9GLrvdEcr",
        "outputId": "43cba697-eef0-4a5b-b430-cb852cf4cd42"
      },
      "execution_count": 1,
      "outputs": [
        {
          "output_type": "stream",
          "name": "stdout",
          "text": [
            "Mounted at /content/gdrive\n"
          ]
        }
      ]
    },
    {
      "cell_type": "code",
      "source": [
        "#-- retrieving the APIs from the environment in the gdrive\n",
        "import os\n",
        "import json\n",
        "# loading API keys from file\n",
        "with open('/content/gdrive/My Drive/RAG_tests/.env/api_keys.json') as f:\n",
        "    api_keys = json.load(f)\n",
        "\n",
        "api_key = api_keys['openaiKEY']\n",
        "os.environ[\"OPENAI_API_KEY\"] = api_key #you can substitute your own key here"
      ],
      "metadata": {
        "id": "L8Ap23VPdMgn"
      },
      "execution_count": 2,
      "outputs": []
    },
    {
      "cell_type": "markdown",
      "source": [
        "_______________________________________________________________________________________________________________________________________________________________________________________________________________________________________________\n"
      ],
      "metadata": {
        "id": "Dkr5EPFodTcZ"
      }
    },
    {
      "cell_type": "markdown",
      "source": [
        "# Q&A with standard LLM\n",
        "Here a standard pre-trained LLM is used to demonstrate how to use it in a conversational manner and eventually illustrate the shortcomings of using only the *parametric* knowledge (i.e. knowledge built with the finite set of training data and stored in the weights of the model).\n",
        "\n",
        "## LangChain\n",
        "### *What is it:*\n",
        "[LangChain](https://python.langchain.com/docs/get_started/introduction) is used to architect the pipeline (*Chain* component) for applications powered by LLM (*Lang*-uage component).\n",
        "\n",
        "### *How it does this:*\n",
        "It is a framework that simplifies the application lifecycle by providing several components:\n",
        "* *LangChain Libraries* (a collection of libraries providing integration for a different range of components and a run time for combining the components into chains and agents) and *Templates*(several easily deployable reference architectures) --> for **developing the cognitive engine**\n",
        "* *LangServe* (a library for turning the app into an API) --> for **deploying** the chain **as a REST API**\n",
        "* *LangSmith* (a developer platform to test, debug and monitor the chains) --> for **observability**\n",
        "\n",
        "### *Why should I know about it:*\n",
        "Its added value can be particularly appreciated when scaling an application as it facilitates the development thanks to its modular architecture and off the shelf components.   \n",
        "\n",
        "### *Implementation:*"
      ],
      "metadata": {
        "id": "E2Tmwb7RfBXi"
      }
    },
    {
      "cell_type": "code",
      "execution_count": 3,
      "metadata": {
        "id": "_s9d2l9hO1UD"
      },
      "outputs": [],
      "source": [
        "!pip install -qU \\\n",
        "          langchain==0.0.292 \\\n",
        "          openai==0.28.0 \\\n",
        "          datasets==2.10.1 \\\n",
        "          tiktoken==0.5.1"
      ]
    },
    {
      "cell_type": "code",
      "source": [
        "#langchain is essentially the orchestrator of the chain components helping with scalability\n",
        "from langchain.chat_models import ChatOpenAI                                            #langchain abstraction to use gpt 3.5 and gpt-4\n",
        "chat = ChatOpenAI(openai_api_key = os.environ[\"OPENAI_API_KEY\"], model='gpt-3.5-turbo') #here you can substitute your own Open AI key"
      ],
      "metadata": {
        "id": "3P9ZI2KPfh7L"
      },
      "execution_count": 7,
      "outputs": []
    },
    {
      "cell_type": "markdown",
      "source": [
        "To provide some context, I am asking the model for potato recipes because in Italy the (now former) president of the AI Commission [once claimed](https://www.affaritaliani.it/politica/amo-le-patate-con-l-ai-tante-ricette-tragicomica-la-prima-riunione-di-amat-889544.html) that AI enables journalists to swiftly access all potato recipes - a somewhat true but also unexpected statement from a president of such a strategic commission.\n",
        "\n",
        "The task of requesting potato recipes serves as an illustrative example emphasizing the need to provide context to a language model. While this project is rooted in that statement, it's chosen for the meme rather than intrinsic significance so focus on the architecture and not the actual task (that you can also customise to your own specific needs)."
      ],
      "metadata": {
        "id": "dZSOLfOlkaUB"
      }
    },
    {
      "cell_type": "code",
      "source": [
        "#these are langchain components that helps in better prompting the behavior of the LLM\n",
        "from langchain.schema import (\n",
        "    SystemMessage,\n",
        "    HumanMessage,\n",
        "    AIMessage\n",
        ")\n",
        "#here the langchain messages components are initialized\n",
        "messages = [\n",
        "    SystemMessage(content=\"Please act like a helpful assistant.\"),   #role of the ecosystem\n",
        "    HumanMessage(content=\"Hi, can you help me out with a task?\"),    #need of the user\n",
        "    AIMessage(content=\"Sure, how can I help you?\"),                  #role of the assistant\n",
        "    HumanMessage(content=\"I'd like you to list some potato recipes\") #need of the user\n",
        "            ]\n",
        "\n",
        "#and then here they get prompted to the ChatOpenAI object obtaining the answer\n",
        "res = chat(messages)\n",
        "print(res.content)"
      ],
      "metadata": {
        "id": "lL_Qzcbkm35-",
        "colab": {
          "base_uri": "https://localhost:8080/"
        },
        "outputId": "6a412be6-80a5-4cad-ec40-89e7b4d2ab3c"
      },
      "execution_count": 8,
      "outputs": [
        {
          "output_type": "stream",
          "name": "stdout",
          "text": [
            "Of course! Here are a few popular potato recipes:\n",
            "\n",
            "1. Mashed potatoes: Boil and mash potatoes with butter, milk, salt, and pepper for a creamy and comforting side dish.\n",
            "\n",
            "2. Roasted potatoes: Toss chopped potatoes with olive oil, salt, pepper, and your favorite herbs, then roast in the oven until crispy and golden brown.\n",
            "\n",
            "3. Potato salad: Boil potatoes until tender, then mix with mayonnaise, mustard, chopped herbs, and other desired ingredients like celery, onions, or pickles.\n",
            "\n",
            "4. Baked potatoes: Bake whole potatoes in the oven until the skin is crispy and the inside is soft. Serve with various toppings like sour cream, bacon, cheese, or chives.\n",
            "\n",
            "5. Potato soup: Cook diced potatoes with onions, garlic, broth, and cream until tender. Blend until smooth for a creamy and comforting soup.\n",
            "\n",
            "6. Potato pancakes: Grate potatoes and mix with eggs, flour, and seasonings, then fry until golden brown. Serve with sour cream or applesauce.\n",
            "\n",
            "7. Scalloped potatoes: Layer thinly sliced potatoes with cheese, cream, and seasonings, then bake until bubbly and browned.\n",
            "\n",
            "8. Potato wedges: Cut potatoes into wedges, toss with olive oil and desired spices, then bake until crispy on the outside and tender on the inside.\n",
            "\n",
            "I hope these ideas inspire you to create some delicious potato dishes! Let me know if there's anything else I can assist you with.\n"
          ]
        }
      ]
    },
    {
      "cell_type": "code",
      "source": [
        "#\"res\" is just another AIMessage object so one can append it to messages, add another HumanMessage and generate the next response in the conversation\n",
        "messages.append(res)                                                                                             #appending it to messages\n",
        "prompt= HumanMessage(content=\"I have no garlic at home, can you give me only recipes without garlic, please?\")   #creating new HumanMessage\n",
        "messages.append(prompt)                                                                                          #adding the prompt to the messages\n",
        "res = chat(messages)                                                                                             #sending it to the model\n",
        "\n",
        "print(res.content)                                                                                               #generating the new response (the added value of langchain is having these components to easily orchestrate conversations)"
      ],
      "metadata": {
        "colab": {
          "base_uri": "https://localhost:8080/"
        },
        "id": "AfPILbxzn5wU",
        "outputId": "b4eef0a5-e606-4f48-967c-d9bcd34cb8ca"
      },
      "execution_count": 9,
      "outputs": [
        {
          "output_type": "stream",
          "name": "stdout",
          "text": [
            "Certainly! Here are some garlic-free potato recipes:\n",
            "\n",
            "1. Mashed potatoes: Follow the same steps as mentioned before, but skip the garlic. You can enhance the flavor with herbs like parsley, chives, or thyme.\n",
            "\n",
            "2. Roasted potatoes: Use olive oil, salt, pepper, and your preferred herbs or spices to season the potatoes before roasting. Try rosemary, paprika, or Italian seasoning for added flavor.\n",
            "\n",
            "3. Potato salad: Create a tangy dressing using mayonnaise, mustard, lemon juice, dill, and chives. Skip the garlic and add other vegetables like celery, onions, or pickles for crunch and flavor.\n",
            "\n",
            "4. Baked potatoes: Bake whole potatoes until they are crispy on the outside and fluffy on the inside. Top them with butter, sour cream, cheese, chives, or bacon bits for a delicious treat.\n",
            "\n",
            "5. Potato soup: Make a creamy potato soup by cooking diced potatoes with onions, vegetable or chicken broth, butter, and herbs like thyme or parsley. You can also add some cream for richness.\n",
            "\n",
            "6. Potato pancakes: Grate potatoes and mix them with eggs, flour, salt, and pepper. Fry them in oil until golden brown and serve with sour cream or applesauce.\n",
            "\n",
            "7. Scalloped potatoes: Layer thinly sliced potatoes with cheese, cream, and your choice of herbs, such as rosemary or thyme. Bake until bubbly and golden.\n",
            "\n",
            "8. Potato wedges: Cut potatoes into wedges, toss with olive oil, salt, pepper, and spices like paprika or cayenne pepper, then bake until crispy.\n",
            "\n",
            "I hope these garlic-free recipes are helpful to you! Let me know if you need any further assistance.\n"
          ]
        }
      ]
    },
    {
      "cell_type": "markdown",
      "source": [
        "_______________________________________________________________________________________________________________________________________________________________________________________________________________________________________________"
      ],
      "metadata": {
        "id": "ZxWSGzAWfbIK"
      }
    },
    {
      "cell_type": "markdown",
      "source": [
        "## Limitations of the standard architecture"
      ],
      "metadata": {
        "id": "97hdOLNHg2mS"
      }
    },
    {
      "cell_type": "markdown",
      "source": [
        "## In a nutshell\n",
        "So far this is just a standard chatbot where:\n",
        "* the **engine** behind it is simply the **pre-trained LLM**\n",
        "* the **architecture** that supports it is powered by LangChain's components\n",
        "\n",
        "The problem is that so far the model is only using the **parametric knowledge** stored in its weights possibly causing the output of:\n",
        "- *inaccurate or outdated responses* = output data that is not coherent with the context or no longer relevant\n",
        "- *hallucinations* = fabricated imaginary output presented with confidence\n",
        "\n",
        "As explained in the article, one way to avoid having static data, especially with frequently changing new data, is to use the **RAG** technique.\n",
        "This essentially consists in updating the knowledge base of the model by adding a new portion of data that provides **context** and more informative data.\n",
        "\n",
        "The RAG approach can be a more cost and time effective than **retraining** it fully with finetuning. For all aspects to keep into account when deciding an LLM optimisation strategy this [article](https://medium.com/@younesh.kc/rag-vs-fine-tuning-in-large-language-models-a-comparison-c765b9e21328) has some useful insights."
      ],
      "metadata": {
        "id": "6DFVOXLolWns"
      }
    },
    {
      "cell_type": "markdown",
      "source": [
        "\n",
        "## Demonstration of these limitations\n",
        "Following up on the task of asking for potato recipes, suppose there is a great recipe that came out only recently, after January 2022 (time limit of OpenAI training data), gpt 3.5 or even 4 would not be able to retrieve it.\n",
        "Hence, to improve accuracy and obtain more accurate domain specific answers we can use RAGs.\n",
        "\n",
        "**To better illustrate this concept, here the model gets asked for a potato recipe with a made up ingredient.** Following up on the potato example, the made up ingredient that is used here is called \"Amato's secret stuff\" (from Micheal's secret stuff - Space Jam fan here).\n",
        "\n",
        "**By using a made up ingredient one can be sure there is no recipe that exists with this ingredient and hence better understand the behaviour of the model when faced with an unfamiliar context and what to do when the LLM does not meet the expectation.**\n",
        "\n"
      ],
      "metadata": {
        "id": "ud38Su8Gm5b1"
      }
    },
    {
      "cell_type": "code",
      "source": [
        "# adding context directly without the pipeline\n",
        "messages.append(res)\n",
        "\n",
        "#the model should not answer this question\n",
        "prompt = HumanMessage(content='Can you tell me a potato recipe with Amato\\'s secret stuff?')\n",
        "messages.append(prompt)\n",
        "res = chat(messages)\n",
        "\n",
        "print(res.content)"
      ],
      "metadata": {
        "id": "PLOEgHc7sgfF",
        "colab": {
          "base_uri": "https://localhost:8080/"
        },
        "outputId": "411e6465-a6b0-4eb9-d01e-d9b0962d038e"
      },
      "execution_count": 10,
      "outputs": [
        {
          "output_type": "stream",
          "name": "stdout",
          "text": [
            "I'm sorry, but as an AI language model, I don't have access to specific brand recipes or proprietary secret ingredients like Amato's secret stuff. However, I can help you with a general potato recipe and suggest some common ingredients that you might consider adding to enhance the flavors. Here's a simple and delicious recipe for you:\n",
            "\n",
            "Herb-Roasted Potatoes:\n",
            "\n",
            "Ingredients:\n",
            "- Potatoes (any variety you prefer)\n",
            "- Olive oil\n",
            "- Salt and pepper\n",
            "- Fresh herbs of your choice (such as rosemary, thyme, or parsley)\n",
            "- Optional: additional seasonings or spices of your choice\n",
            "\n",
            "Instructions:\n",
            "1. Preheat your oven to 425°F (220°C).\n",
            "2. Wash and scrub the potatoes, then cut them into bite-sized pieces.\n",
            "3. In a mixing bowl, toss the potato pieces with olive oil, salt, pepper, and your desired herbs. You can also add other seasonings or spices to your liking.\n",
            "4. Place the seasoned potatoes on a baking sheet in a single layer.\n",
            "5. Roast the potatoes in the preheated oven for about 25-30 minutes or until they are golden brown and crispy on the outside, flipping them once halfway through.\n",
            "6. Once cooked, remove the potatoes from the oven and let them cool slightly before serving.\n",
            "\n",
            "Feel free to get creative and adjust the seasonings and herbs based on your personal preferences. I hope this recipe helps, and let me know if there's anything else I can assist you with!\n"
          ]
        }
      ]
    },
    {
      "cell_type": "markdown",
      "source": [
        "This answer is the best case scenario as the model acknowledges the fact that it does not know about any recipe with the new ingredient.\n",
        "\n",
        "However, in some other attempts, the answer confidently made up a recipe with the new ingredient but without saying that it was making it up. This is due to the fact that LLM do not have any causal map but only perform the task or recognizing pattern in the data and reproducing them. So the model makes up a recipe with the new ingredient actually answering the user."
      ],
      "metadata": {
        "id": "4bKOp50EphUP"
      }
    },
    {
      "cell_type": "code",
      "source": [
        "#For example, case of HALLUCINATION\n",
        "espresso_prompt = HumanMessage(content = \"Do you know anything about potato recipes with espresso?\")\n",
        "messages.append(espresso_prompt)\n",
        "res = chat(messages)\n",
        "print(res.content)"
      ],
      "metadata": {
        "colab": {
          "base_uri": "https://localhost:8080/"
        },
        "id": "1krOqhI2xwWL",
        "outputId": "37329bbf-e679-4c5b-d6a0-69ce5a3dfbd1"
      },
      "execution_count": 11,
      "outputs": [
        {
          "output_type": "stream",
          "name": "stdout",
          "text": [
            "Certainly! While it may not be a traditional combination, espresso can add a unique flavor to potato dishes. Here's a recipe for espresso-infused roasted potatoes:\n",
            "\n",
            "Ingredients:\n",
            "- 2 pounds of potatoes (Yukon Gold or Russet), cut into cubes\n",
            "- 2 tablespoons of olive oil\n",
            "- 1 tablespoon of finely ground espresso or instant coffee\n",
            "- 1 teaspoon of paprika\n",
            "- Salt and pepper to taste\n",
            "- Fresh parsley, chopped (optional, for garnish)\n",
            "\n",
            "Instructions:\n",
            "1. Preheat your oven to 425°F (220°C) and line a baking sheet with parchment paper or foil.\n",
            "2. In a small bowl, mix the olive oil, ground espresso, paprika, salt, and pepper to create a marinade.\n",
            "3. Place the potato cubes in a mixing bowl and pour the marinade over them. Toss until the potatoes are well coated.\n",
            "4. Spread the coated potato cubes onto the prepared baking sheet in a single layer.\n",
            "5. Roast the potatoes in the preheated oven for about 25-30 minutes, or until they are golden brown and crispy on the outside, while tender on the inside. Make sure to stir them once or twice during cooking for even browning.\n",
            "6. Once done, remove the roasted potatoes from the oven and let them cool slightly. Garnish with fresh parsley, if desired.\n",
            "7. Serve the espresso-infused roasted potatoes as a side dish or enjoy them as a unique and flavorful snack.\n",
            "\n",
            "The espresso adds a subtle, smoky note to the potatoes, complementing their natural earthy flavors. I hope you give this recipe a try and enjoy the interesting combination of espresso and potatoes! Let me know if you need any further assistance.\n"
          ]
        }
      ]
    },
    {
      "cell_type": "markdown",
      "source": [
        "Yet, if you search for Espresso-Rubbed Roasted Potatoes there are no recipes that combine the two ingredients, there are some espresso rubbed steak with potatoes but still the point is that there are cases in which the model do not even recognize their own limitations and these are the most dangerous one. In fact, you can see how these kind of hallucinations (no factual, ground-truth reference) are risky in more high-stakes context (eg. think about a lawyer searching for examples of behavior similar to the one he should advocate, the model could make up events to which the lawyer would then refer to without realizing they were made up).\n"
      ],
      "metadata": {
        "id": "YuotNSnatZLI"
      }
    },
    {
      "cell_type": "markdown",
      "source": [
        "# RAG-enhanced: naive updating\n",
        "To reduce the likelihood of hallucinations and incorporate new updated information to pre-trained models, one can use the RAG technique."
      ],
      "metadata": {
        "id": "OR0cH5ygpiJO"
      }
    },
    {
      "cell_type": "code",
      "source": [
        "additional_information = [\n",
        "\"\"\"\n",
        "Amato's secret potatoes\n",
        "- Boil 4-5 potatoes until tender. Once cooked, drain and let them cool.\n",
        "- Once the potatoes are cool, peel and chop them into bite-sized pieces.\n",
        "- In a bowl, combine the potatoes with 2 cups of Amato's secret stuff, 1 tablespoon of vinegar, salt, and pepper to taste.\n",
        "- Add a sprinkle of chopped up olive leaves (optional).\n",
        "- Gently mix everything together until well combined.\n",
        "- Bake for about 45-50 minutes, or until the potatoes are crispy on the outside and tender on the inside.\n",
        "- Serve hot and enjoy!\n",
        "\"\"\"\n",
        "]\n"
      ],
      "metadata": {
        "id": "GaYt7cVfsgmt"
      },
      "execution_count": 12,
      "outputs": []
    },
    {
      "cell_type": "code",
      "source": [
        "source_knowledge = \"\\n\".join(additional_information)"
      ],
      "metadata": {
        "id": "dNGbxjdbwGTZ"
      },
      "execution_count": 13,
      "outputs": []
    },
    {
      "cell_type": "code",
      "source": [
        "#we can feed this additional knowledge into the prompt with some instructions telling the LLM how we'd like to use the information along with the original query\n",
        "query = 'Do you know anything about a potato recipe with Amato\\'s secret stuff?'\n",
        "\n",
        "augmented_prompt = f\"\"\"Using the context below, answer the query.\n",
        "\n",
        "Context: {source_knowledge}\n",
        "\n",
        "Query: {query}\"\"\""
      ],
      "metadata": {
        "id": "c1qJai99wRkf"
      },
      "execution_count": 14,
      "outputs": []
    },
    {
      "cell_type": "code",
      "source": [
        "print(augmented_prompt)"
      ],
      "metadata": {
        "colab": {
          "base_uri": "https://localhost:8080/"
        },
        "id": "gED6jChsxCaF",
        "outputId": "cb7aa073-740f-4d82-bd06-fed5bc6a71ef"
      },
      "execution_count": 15,
      "outputs": [
        {
          "output_type": "stream",
          "name": "stdout",
          "text": [
            "Using the context below, answer the query.\n",
            "\n",
            "Context: \n",
            "Amato's secret potatoes\n",
            "- Boil 4-5 potatoes until tender. Once cooked, drain and let them cool.\n",
            "- Once the potatoes are cool, peel and chop them into bite-sized pieces.\n",
            "- In a bowl, combine the potatoes with 2 cups of Amato's secret stuff, 1 tablespoon of vinegar, salt, and pepper to taste.\n",
            "- Add a sprinkle of chopped up olive leaves (optional).\n",
            "- Gently mix everything together until well combined.\n",
            "- Bake for about 45-50 minutes, or until the potatoes are crispy on the outside and tender on the inside.\n",
            "- Serve hot and enjoy!\n",
            "\n",
            "\n",
            "Query: Do you know anything about a potato recipe with Amato's secret stuff?\n"
          ]
        }
      ]
    },
    {
      "cell_type": "code",
      "source": [
        "#create a new user prompt\n",
        "prompt = HumanMessage(content=augmented_prompt)\n",
        "messages.append(prompt)\n",
        "res = chat(messages)"
      ],
      "metadata": {
        "id": "anCdvW4uw2Y9"
      },
      "execution_count": 16,
      "outputs": []
    },
    {
      "cell_type": "code",
      "source": [
        "print(res.content)"
      ],
      "metadata": {
        "colab": {
          "base_uri": "https://localhost:8080/"
        },
        "id": "BiFhQXrUwSRY",
        "outputId": "8cbbb43d-1cd4-4633-e739-7b92a37313b3"
      },
      "execution_count": 17,
      "outputs": [
        {
          "output_type": "stream",
          "name": "stdout",
          "text": [
            "Yes, based on the provided context, there is a potato recipe that incorporates Amato's secret stuff. The recipe involves boiling and chopping potatoes, then combining them with Amato's secret stuff, vinegar, salt, and pepper. The mixture is baked until the potatoes become crispy on the outside and tender on the inside. Sprinkling chopped olive leaves is optional. It sounds like a flavorful and unique potato dish!\n"
          ]
        }
      ]
    },
    {
      "cell_type": "markdown",
      "source": [
        "See how the model is now able to **answer the question incorporating the updated information providing a more context aware answer**."
      ],
      "metadata": {
        "id": "NRF1FrR7s7Ga"
      }
    },
    {
      "cell_type": "markdown",
      "source": [
        "# RAG pipeline: vector embedding\n",
        "\n",
        "A simple list of strings works if you need to quickly provide context in a prompt but incorporating all kinds of documents in a more production-ready way is the real challenge that requires a more automatic and scalable way to include new knowledge. This is where **vector embeddings and databases** come into the picture for a more automatic and scalable update of the knowledge base."
      ],
      "metadata": {
        "id": "TKOjWaBX13-x"
      }
    },
    {
      "cell_type": "markdown",
      "source": [
        "For the purpose of this toy project I have used generative models to make up other recipes with the new ingredient. In a more realistic setting, one could add to the vector database all kind of data from internal files or programmatically from APIs or through scraping scripts depending on the use case."
      ],
      "metadata": {
        "id": "VMzb7jhcu8WQ"
      }
    },
    {
      "cell_type": "markdown",
      "source": [
        "The added data should be structured as a [Dataset() object](https://docs.smith.langchain.com/evaluation/datasets) which are a collection of examples that can be used to customize the knowledge base.\n",
        "\n",
        "Following up on the potato example, to incorporate the updated knowledge, the dataset is structured as a dictionary with each entry describing a new recipe using the secret ingredient.\n",
        "As it can be seen in the first section of the notebook, because there is no general knowledge of this ingredient without the dataset the LLM would not be able to answer or would make up recipes."
      ],
      "metadata": {
        "id": "j7uIe3jtvUq4"
      }
    },
    {
      "cell_type": "code",
      "source": [
        "from datasets import Dataset\n",
        "\n",
        "# Define the recipes\n",
        "recipes_data = [\n",
        "    {\n",
        "        \"recipe_name\": '''Amato's secret potatoes''',\n",
        "        \"instructions\": '''\n",
        "            - Boil 4-5 potatoes until tender. Once cooked, drain and let them cool.\n",
        "            - Once the potatoes are cool, peel and chop them into bite-sized pieces.\n",
        "            - In a bowl, combine the potatoes with 2 cups of Amato's secret stuff, 1 tablespoon of vinegar, salt, and pepper to taste.\n",
        "            - Add a sprinkle of olive leaves (optional).\n",
        "            - Gently mix everything together until well combined.\n",
        "            - Bake for about 45-50 minutes, or until the potatoes are crispy on the outside and tender on the inside.\n",
        "            - Serve hot and enjoy!\n",
        "        ''' #the optional step is only if you are familiar with historical political alliances in Italy\n",
        "    },\n",
        "    {\n",
        "        \"recipe_name\": '''Amato's secret rosemary potatoes''',\n",
        "        \"instructions\": '''\n",
        "            - Preheat your oven to 425°F (220°C).\n",
        "            - Wash and scrub 4-5 potatoes, then cut them into bite-sized pieces.\n",
        "            - In a bowl, toss the potatoes with olive oil, salt, pepper, and a generous amount of Amato's secret stuff.\n",
        "            - Spread the potatoes evenly on a baking sheet lined with parchment paper.\n",
        "            - Roast the potatoes in the preheated oven for 30-35 minutes or until golden brown and crispy.\n",
        "            - Remove from the oven and serve immediately.\n",
        "        '''\n",
        "    },\n",
        "    {\n",
        "        \"recipe_name\": '''Amato's secret cumin spiced mashed potatoes''',\n",
        "        \"instructions\": '''\n",
        "            - Peel and dice 4-5 potatoes.\n",
        "            - Boil the potatoes until they are fork-tender. Drain the water.\n",
        "            - Mash the potatoes using a potato masher or fork.\n",
        "            - Add 2 teaspoons of ground cumin, salt, and pepper to taste. Mix well.\n",
        "            - Add a generous amount of Amato's secret stuff. Optional: Add a tablespoon of butter or olive oil for extra richness.\n",
        "            - Continue mashing until the potatoes reach your desired consistency.\n",
        "            - Serve hot as a side dish with your favorite main course.\n",
        "        '''\n",
        "    }\n",
        "]\n",
        "\n",
        "# Create a Dataset object\n",
        "recipes_dataset = Dataset.from_dict({\"recipes\": recipes_data})\n",
        "\n",
        "# Display the dataset\n",
        "print(recipes_dataset)"
      ],
      "metadata": {
        "colab": {
          "base_uri": "https://localhost:8080/"
        },
        "id": "dRoek9hL18SO",
        "outputId": "5e76402f-d940-4dca-cb30-94a683e071a2"
      },
      "execution_count": 19,
      "outputs": [
        {
          "output_type": "stream",
          "name": "stdout",
          "text": [
            "Dataset({\n",
            "    features: ['recipes'],\n",
            "    num_rows: 3\n",
            "})\n"
          ]
        }
      ]
    },
    {
      "cell_type": "markdown",
      "source": [
        "So now the corpus of updated data has been created and it needs to be transformed into the knowledge base that the model can use and this is done through **vector embeddings and databases**."
      ],
      "metadata": {
        "id": "4CreZqDXwhWz"
      }
    },
    {
      "cell_type": "markdown",
      "source": [
        "\n",
        "**Vector embeddings** are the AI native way to represent any kind of data (text, pictures, audio cannot be stored in a tabular format) in a way that reduces its dimensions while retaining the meaning and such that it can be easily processed by algorithms. To create an embedding, data is fed into an **embedding model** which is trained so that *similar* data (eg. text with similar semantics) is translated into vectors of numbers that are *nearer* to one another.\n",
        "\n",
        "**Vector databases** are databases dedicated to storing these vectors and through indexing techniques they allow to efficiently conduct similarity calculation and clustering analysis.\n",
        "\n",
        "I suggest this [article](https://medium.com/data-and-beyond/vector-databases-a-beginners-guide-b050cbbe9ca0) if you are not familiar with vector databases.\n",
        "\n",
        "An open source option for such vector databases is Chroma DB which is a vector databaseto store embeddings and their metadata without even having to register."
      ],
      "metadata": {
        "id": "ehOswODezUNL"
      }
    },
    {
      "cell_type": "code",
      "source": [
        "#!pip uninstall chromadb typing-extensions #use this if you have troubles with the versioning"
      ],
      "metadata": {
        "id": "o-Ah9KKxpD05"
      },
      "execution_count": 46,
      "outputs": []
    },
    {
      "cell_type": "code",
      "source": [
        "#!python --version #For context, I am using Python 3.10 here"
      ],
      "metadata": {
        "id": "Y5gBS57SqsPh"
      },
      "execution_count": 44,
      "outputs": []
    },
    {
      "cell_type": "code",
      "source": [
        "#!pip install -U langchain-community chromadb==0.4.22 typing_extensions==4.7.1"
      ],
      "metadata": {
        "id": "Y7EYEFjq52x_"
      },
      "execution_count": 45,
      "outputs": []
    },
    {
      "cell_type": "code",
      "source": [
        "import chromadb\n",
        "client = chromadb.Client() #get the chroma client (simple in-memory chromadb)"
      ],
      "metadata": {
        "id": "cZtAgInV3d9D"
      },
      "execution_count": 43,
      "outputs": []
    },
    {
      "cell_type": "code",
      "source": [
        "#client.delete_collection(name=\"new_recipes\") #you cannot have more than one collection with the same name so in case use this"
      ],
      "metadata": {
        "id": "KmEKMSMlE_wI"
      },
      "execution_count": 47,
      "outputs": []
    },
    {
      "cell_type": "code",
      "source": [
        "collection = client.create_collection(name=\"new_recipes\")   #collections are where the embeddings are stored\n",
        "                                                            #(using the default embedding function which is sentence transformer but one can customize it with the embedding_function argument)"
      ],
      "metadata": {
        "id": "o9iAJb7txlFZ"
      },
      "execution_count": 48,
      "outputs": []
    },
    {
      "cell_type": "markdown",
      "source": [
        "Chroma DB uses as default embedding function the [sentence transformer](https://www.sbert.net/index.html). To check the other embedding functions available head to the [chroma DB documentation](https://docs.trychroma.com/embeddings)."
      ],
      "metadata": {
        "id": "aU8mtUhv2Xp2"
      }
    },
    {
      "cell_type": "code",
      "source": [
        "#clean the documents as chroma want them to be input\n",
        "def string_it(ds, indx):\n",
        "  \"\"\"supporting function to create the string as input doc for chroma from the dataset object\"\"\"\n",
        "  return \"The title of the recipe is \" + ds[indx]['recipes']['recipe_name']+ \". The instructions are the following:\" + ds[indx]['recipes']['instructions']\n",
        "\n",
        "input_docs = [string_it(recipes_dataset, i) for i in range(len(recipes_dataset))]\n",
        "print(input_docs)"
      ],
      "metadata": {
        "colab": {
          "base_uri": "https://localhost:8080/"
        },
        "id": "UHVk7sYN5218",
        "outputId": "fac8b063-30f0-4933-c838-13c2fe9fe09c"
      },
      "execution_count": 49,
      "outputs": [
        {
          "output_type": "stream",
          "name": "stdout",
          "text": [
            "[\"The title of the recipe is Amato's secret potatoes. The instructions are the following:\\n            - Boil 4-5 potatoes until tender. Once cooked, drain and let them cool.\\n            - Once the potatoes are cool, peel and chop them into bite-sized pieces.\\n            - In a bowl, combine the potatoes with 2 cups of Amato's secret stuff, 1 tablespoon of vinegar, salt, and pepper to taste.\\n            - Add a sprinkle of olive leaves (optional).\\n            - Gently mix everything together until well combined.\\n            - Bake for about 45-50 minutes, or until the potatoes are crispy on the outside and tender on the inside.\\n            - Serve hot and enjoy!\\n        \", \"The title of the recipe is Amato's secret rosemary potatoes. The instructions are the following:\\n            - Preheat your oven to 425°F (220°C).\\n            - Wash and scrub 4-5 potatoes, then cut them into bite-sized pieces.\\n            - In a bowl, toss the potatoes with olive oil, salt, pepper, and a generous amount of Amato's secret stuff.\\n            - Spread the potatoes evenly on a baking sheet lined with parchment paper.\\n            - Roast the potatoes in the preheated oven for 30-35 minutes or until golden brown and crispy.\\n            - Remove from the oven and serve immediately.\\n        \", \"The title of the recipe is Amato's secret cumin spiced mashed potatoes. The instructions are the following:\\n            - Peel and dice 4-5 potatoes.\\n            - Boil the potatoes until they are fork-tender. Drain the water.\\n            - Mash the potatoes using a potato masher or fork.\\n            - Add 2 teaspoons of ground cumin, salt, and pepper to taste. Mix well.\\n            - Add a generous amount of Amato's secret stuff. Optional: Add a tablespoon of butter or olive oil for extra richness.\\n            - Continue mashing until the potatoes reach your desired consistency.\\n            - Serve hot as a side dish with your favorite main course.\\n        \"]\n"
          ]
        }
      ]
    },
    {
      "cell_type": "markdown",
      "source": [
        "The most difficult part is to understand how to structure the added knowledge base especially when you have several types of data without manually transferring the files and connect to the new data."
      ],
      "metadata": {
        "id": "vcIA-YTe7ti6"
      }
    },
    {
      "cell_type": "code",
      "source": [
        "# chroma stores the text, handles the tokenization, the embedding and indexing automatically (but if you already have the embeddings you can also store those directly)\n",
        "# can add up to 100k+ items\n",
        "collection.add(\n",
        "    ids=[str(i) for i in range(len(recipes_dataset))],  # each document must be associated with a unique IDs which is just a string\n",
        "    documents=input_docs,                               #make sure this is formatted as a list of strings\n",
        "    metadatas=[{\"type\": \"recipe\"} for _ in input_docs   #the list of metadata is optional\n",
        "    ]\n",
        ")"
      ],
      "metadata": {
        "colab": {
          "base_uri": "https://localhost:8080/"
        },
        "id": "rOdMthYK35Hh",
        "outputId": "083a8f2a-5621-42bc-f505-2b6aa702a34d"
      },
      "execution_count": 50,
      "outputs": [
        {
          "output_type": "stream",
          "name": "stderr",
          "text": [
            "/root/.cache/chroma/onnx_models/all-MiniLM-L6-v2/onnx.tar.gz: 100%|██████████| 79.3M/79.3M [00:01<00:00, 55.7MiB/s]\n"
          ]
        }
      ]
    },
    {
      "cell_type": "markdown",
      "source": [
        "Then I can use the added recipes to augment the knowledge base."
      ],
      "metadata": {
        "id": "UIiitPro7RVQ"
      }
    },
    {
      "cell_type": "code",
      "source": [
        "retrieved_results = collection.query(\n",
        "    query_texts=[\"This is a query document\"],\n",
        "    where_document = {\"$contains\":\"secret stuff\"}\n",
        "    )\n",
        "\n",
        "print(retrieved_results)"
      ],
      "metadata": {
        "colab": {
          "base_uri": "https://localhost:8080/"
        },
        "id": "BxogzMcA4BaX",
        "outputId": "c173f2d2-ea61-4280-8d94-4292149f7991"
      },
      "execution_count": 51,
      "outputs": [
        {
          "output_type": "stream",
          "name": "stderr",
          "text": [
            "WARNING:chromadb.segment.impl.vector.local_hnsw:Number of requested results 10 is greater than number of elements in index 3, updating n_results = 3\n"
          ]
        },
        {
          "output_type": "stream",
          "name": "stdout",
          "text": [
            "{'ids': [['2', '1', '0']], 'distances': [[1.8984371423721313, 1.9166781902313232, 1.9231815338134766]], 'metadatas': [[{'type': 'recipe'}, {'type': 'recipe'}, {'type': 'recipe'}]], 'embeddings': None, 'documents': [[\"The title of the recipe is Amato's secret cumin spiced mashed potatoes. The instructions are the following:\\n            - Peel and dice 4-5 potatoes.\\n            - Boil the potatoes until they are fork-tender. Drain the water.\\n            - Mash the potatoes using a potato masher or fork.\\n            - Add 2 teaspoons of ground cumin, salt, and pepper to taste. Mix well.\\n            - Add a generous amount of Amato's secret stuff. Optional: Add a tablespoon of butter or olive oil for extra richness.\\n            - Continue mashing until the potatoes reach your desired consistency.\\n            - Serve hot as a side dish with your favorite main course.\\n        \", \"The title of the recipe is Amato's secret rosemary potatoes. The instructions are the following:\\n            - Preheat your oven to 425°F (220°C).\\n            - Wash and scrub 4-5 potatoes, then cut them into bite-sized pieces.\\n            - In a bowl, toss the potatoes with olive oil, salt, pepper, and a generous amount of Amato's secret stuff.\\n            - Spread the potatoes evenly on a baking sheet lined with parchment paper.\\n            - Roast the potatoes in the preheated oven for 30-35 minutes or until golden brown and crispy.\\n            - Remove from the oven and serve immediately.\\n        \", \"The title of the recipe is Amato's secret potatoes. The instructions are the following:\\n            - Boil 4-5 potatoes until tender. Once cooked, drain and let them cool.\\n            - Once the potatoes are cool, peel and chop them into bite-sized pieces.\\n            - In a bowl, combine the potatoes with 2 cups of Amato's secret stuff, 1 tablespoon of vinegar, salt, and pepper to taste.\\n            - Add a sprinkle of olive leaves (optional).\\n            - Gently mix everything together until well combined.\\n            - Bake for about 45-50 minutes, or until the potatoes are crispy on the outside and tender on the inside.\\n            - Serve hot and enjoy!\\n        \"]], 'uris': None, 'data': None}\n"
          ]
        }
      ]
    },
    {
      "cell_type": "markdown",
      "source": [
        "The collection can be queried on:\n",
        "* the actual document with the where_document argument (supports \\$contains and \\$not_contains)\n",
        "* the metadata if needed (supports several operatores like \\$eq, \\$ne, etc)\n",
        "\n",
        "For all possibilities, see the [documentation](https://docs.trychroma.com/usage-guide#using-where-filters)."
      ],
      "metadata": {
        "id": "l68pvDT5G4DG"
      }
    },
    {
      "cell_type": "markdown",
      "source": [
        "To better appreciate how the vector store and the embeddings for the items work, here completely different items are added to the collection. Skip this part if you already know how vector embeddings work."
      ],
      "metadata": {
        "id": "RGrg6GzqG5pe"
      }
    },
    {
      "cell_type": "code",
      "source": [
        "other_kind_of_topics = [\"Giuliano Amato leaves the algorithm Commission after the attacks by Giorgia Meloni.\",\n",
        "                        \"Father Paolo Benanti is the new President of the AI Commission for Information.\"]\n",
        "collection.add(\n",
        "    ids = ['4','5'],\n",
        "    documents = other_kind_of_topics,\n",
        "    metadatas = [{\"type\":\"latest_news\"} for _ in other_kind_of_topics]\n",
        ")"
      ],
      "metadata": {
        "id": "2QK-o2Sd_I_J"
      },
      "execution_count": 52,
      "outputs": []
    },
    {
      "cell_type": "code",
      "source": [
        "another_example = collection.get(           #notice how for the metadata the method is get and not query\n",
        "    #include=['embeddings'],                #with the get method the embeddings must be explicitly included if you want to see the actual values\n",
        "    where = {\"type\" : {\"$ne\": \"recipe\"}}\n",
        "    )\n",
        "\n",
        "print(another_example)"
      ],
      "metadata": {
        "colab": {
          "base_uri": "https://localhost:8080/"
        },
        "id": "0lwOdK4OA8bK",
        "outputId": "77089518-0d36-450c-ee32-3d5cd4704fa6"
      },
      "execution_count": 53,
      "outputs": [
        {
          "output_type": "stream",
          "name": "stdout",
          "text": [
            "{'ids': ['4', '5'], 'embeddings': None, 'metadatas': [{'type': 'latest_news'}, {'type': 'latest_news'}], 'documents': ['Giuliano Amato leaves the algorithm Commission after the attacks by Giorgia Meloni.', 'Father Paolo Benanti is the new President of the AI Commission for Information.'], 'uris': None, 'data': None}\n"
          ]
        }
      ]
    },
    {
      "cell_type": "code",
      "source": [
        "notice_the_distance = collection.query(\n",
        "    query_texts=[\"This is a query document\"],\n",
        "    where_document = {\"$contains\":\"Amato\"},\n",
        "    )\n",
        "\n",
        "print(notice_the_distance)"
      ],
      "metadata": {
        "colab": {
          "base_uri": "https://localhost:8080/"
        },
        "id": "KHh3-ksIGDCM",
        "outputId": "fa09083f-d9d3-4f80-dc71-e2e7466ab9e5"
      },
      "execution_count": 54,
      "outputs": [
        {
          "output_type": "stream",
          "name": "stderr",
          "text": [
            "WARNING:chromadb.segment.impl.vector.local_hnsw:Number of requested results 10 is greater than number of elements in index 5, updating n_results = 5\n"
          ]
        },
        {
          "output_type": "stream",
          "name": "stdout",
          "text": [
            "{'ids': [['4', '2', '1', '0']], 'distances': [[1.7931534051895142, 1.8984371423721313, 1.9166781902313232, 1.9231815338134766]], 'metadatas': [[{'type': 'latest_news'}, {'type': 'recipe'}, {'type': 'recipe'}, {'type': 'recipe'}]], 'embeddings': None, 'documents': [['Giuliano Amato leaves the algorithm Commission after the attacks by Giorgia Meloni.', \"The title of the recipe is Amato's secret cumin spiced mashed potatoes. The instructions are the following:\\n            - Peel and dice 4-5 potatoes.\\n            - Boil the potatoes until they are fork-tender. Drain the water.\\n            - Mash the potatoes using a potato masher or fork.\\n            - Add 2 teaspoons of ground cumin, salt, and pepper to taste. Mix well.\\n            - Add a generous amount of Amato's secret stuff. Optional: Add a tablespoon of butter or olive oil for extra richness.\\n            - Continue mashing until the potatoes reach your desired consistency.\\n            - Serve hot as a side dish with your favorite main course.\\n        \", \"The title of the recipe is Amato's secret rosemary potatoes. The instructions are the following:\\n            - Preheat your oven to 425°F (220°C).\\n            - Wash and scrub 4-5 potatoes, then cut them into bite-sized pieces.\\n            - In a bowl, toss the potatoes with olive oil, salt, pepper, and a generous amount of Amato's secret stuff.\\n            - Spread the potatoes evenly on a baking sheet lined with parchment paper.\\n            - Roast the potatoes in the preheated oven for 30-35 minutes or until golden brown and crispy.\\n            - Remove from the oven and serve immediately.\\n        \", \"The title of the recipe is Amato's secret potatoes. The instructions are the following:\\n            - Boil 4-5 potatoes until tender. Once cooked, drain and let them cool.\\n            - Once the potatoes are cool, peel and chop them into bite-sized pieces.\\n            - In a bowl, combine the potatoes with 2 cups of Amato's secret stuff, 1 tablespoon of vinegar, salt, and pepper to taste.\\n            - Add a sprinkle of olive leaves (optional).\\n            - Gently mix everything together until well combined.\\n            - Bake for about 45-50 minutes, or until the potatoes are crispy on the outside and tender on the inside.\\n            - Serve hot and enjoy!\\n        \"]], 'uris': None, 'data': None}\n"
          ]
        }
      ]
    },
    {
      "cell_type": "markdown",
      "source": [
        "Notice how the distances values are about the same for the three recipes but lower for the item about the latest new and that's how vector embeddings capture the meaning of the new information and the model can identify similarity."
      ],
      "metadata": {
        "id": "VU6JNYAEGden"
      }
    },
    {
      "cell_type": "markdown",
      "source": [
        "Lastly, the final step of the pipeline consists in augmenting the prompt with the new information stored in the database as vector embedding."
      ],
      "metadata": {
        "id": "Sf-CKLo58kz5"
      }
    },
    {
      "cell_type": "code",
      "source": [
        "#connect the output from the vectorstore to the chat chatbot\n",
        "\n",
        "def contextualize_prompt(query: str):\n",
        "  \"\"\" function to augment the prompt with the new knowledge retrieved from the vector database \"\"\"\n",
        "\n",
        "  # here is where you retrieve the info from the vector database\n",
        "  results = collection.query(query_texts=[\"This is a query document\"], where_document = {\"$contains\":\"secret stuff\"}, n_results=3) #<----- here we are querying the vector db\n",
        "                                                                                                                                           # (the n_results just because the default is 10 but we only have 3)\n",
        "  # get the text from the results\n",
        "  source_knowledge = \"\\n\\n\".join(results['documents'][0])\n",
        "\n",
        "  #feed into an augmented prompt\n",
        "  augmented_prompt = f\"\"\"Using the contexts below, answer the query.\n",
        "\n",
        "  Context: {source_knowledge}\n",
        "\n",
        "  Query: {query}\n",
        "  \"\"\"\n",
        "  return augmented_prompt\n"
      ],
      "metadata": {
        "id": "4I40FETe3txh"
      },
      "execution_count": 60,
      "outputs": []
    },
    {
      "cell_type": "code",
      "source": [
        "query = \"I have some Amato's secret stuff left in the fridge, can you give a recipe so that I can use it?\"\n",
        "print(contextualize_prompt(query)) #how the prompt augmented with the context of the new input information"
      ],
      "metadata": {
        "id": "LZGLHXs0CvJx",
        "colab": {
          "base_uri": "https://localhost:8080/"
        },
        "outputId": "29fbfe52-d94c-4266-f7e6-318f72163a39"
      },
      "execution_count": 61,
      "outputs": [
        {
          "output_type": "stream",
          "name": "stdout",
          "text": [
            "Using the contexts below, answer the query.\n",
            "\n",
            "  Context: The title of the recipe is Amato's secret cumin spiced mashed potatoes. The instructions are the following:\n",
            "            - Peel and dice 4-5 potatoes.\n",
            "            - Boil the potatoes until they are fork-tender. Drain the water.\n",
            "            - Mash the potatoes using a potato masher or fork.\n",
            "            - Add 2 teaspoons of ground cumin, salt, and pepper to taste. Mix well.\n",
            "            - Add a generous amount of Amato's secret stuff. Optional: Add a tablespoon of butter or olive oil for extra richness.\n",
            "            - Continue mashing until the potatoes reach your desired consistency.\n",
            "            - Serve hot as a side dish with your favorite main course.\n",
            "        \n",
            "\n",
            "The title of the recipe is Amato's secret rosemary potatoes. The instructions are the following:\n",
            "            - Preheat your oven to 425°F (220°C).\n",
            "            - Wash and scrub 4-5 potatoes, then cut them into bite-sized pieces.\n",
            "            - In a bowl, toss the potatoes with olive oil, salt, pepper, and a generous amount of Amato's secret stuff.\n",
            "            - Spread the potatoes evenly on a baking sheet lined with parchment paper.\n",
            "            - Roast the potatoes in the preheated oven for 30-35 minutes or until golden brown and crispy.\n",
            "            - Remove from the oven and serve immediately.\n",
            "        \n",
            "\n",
            "The title of the recipe is Amato's secret potatoes. The instructions are the following:\n",
            "            - Boil 4-5 potatoes until tender. Once cooked, drain and let them cool.\n",
            "            - Once the potatoes are cool, peel and chop them into bite-sized pieces.\n",
            "            - In a bowl, combine the potatoes with 2 cups of Amato's secret stuff, 1 tablespoon of vinegar, salt, and pepper to taste.\n",
            "            - Add a sprinkle of olive leaves (optional).\n",
            "            - Gently mix everything together until well combined.\n",
            "            - Bake for about 45-50 minutes, or until the potatoes are crispy on the outside and tender on the inside.\n",
            "            - Serve hot and enjoy!\n",
            "        \n",
            "\n",
            "  Query: I have some Amato's secret stuff left in the fridge, can you give a recipe so that I can use it?\n",
            "  \n"
          ]
        }
      ]
    },
    {
      "cell_type": "markdown",
      "source": [
        "Eventually the augmented prompt is inserted as a new user prompt"
      ],
      "metadata": {
        "id": "tIw6PrUoLlS8"
      }
    },
    {
      "cell_type": "code",
      "source": [
        "prompt = HumanMessage(content=contextualize_prompt(query))\n",
        "messages.append(prompt)\n",
        "res = chat(messages)\n",
        "print(res.content)"
      ],
      "metadata": {
        "colab": {
          "base_uri": "https://localhost:8080/"
        },
        "id": "kOcDo_rKLGf_",
        "outputId": "eeb09507-0f76-4bb1-ced6-50d1ba5fdcc6"
      },
      "execution_count": 57,
      "outputs": [
        {
          "output_type": "stream",
          "name": "stderr",
          "text": [
            "WARNING:chromadb.segment.impl.vector.local_hnsw:Number of requested results 10 is greater than number of elements in index 5, updating n_results = 5\n"
          ]
        },
        {
          "output_type": "stream",
          "name": "stdout",
          "text": [
            "Certainly! Here's a recipe you can try using Amato's secret stuff:\n",
            "\n",
            "Title: Amato's secret herb roasted potatoes\n",
            "\n",
            "Ingredients:\n",
            "- 4-5 potatoes, washed and cut into wedges\n",
            "- Olive oil\n",
            "- Salt and pepper to taste\n",
            "- Amato's secret stuff\n",
            "- Your choice of herbs (rosemary, thyme, or parsley), chopped\n",
            "\n",
            "Instructions:\n",
            "1. Preheat your oven to 425°F (220°C).\n",
            "2. In a bowl, toss the potato wedges with olive oil, salt, pepper, and a generous amount of Amato's secret stuff.\n",
            "3. Sprinkle the chopped herbs over the potatoes and toss to coat evenly.\n",
            "4. Spread the potatoes in a single layer on a baking sheet lined with parchment paper.\n",
            "5. Roast the potatoes in the preheated oven for about 30-35 minutes or until they are golden brown and crispy on the outside, flipping them once halfway through.\n",
            "6. Remove from the oven and let them cool slightly before serving.\n",
            "\n",
            "These herb-roasted potatoes will have a delightful blend of flavors from Amato's secret stuff and the fresh herbs. Enjoy them as a side dish with your favorite main course.\n"
          ]
        }
      ]
    },
    {
      "cell_type": "markdown",
      "source": [
        "## Second use case: incorporating recent news"
      ],
      "metadata": {
        "id": "IQd0AlfCOnto"
      }
    },
    {
      "cell_type": "markdown",
      "source": [
        "To better appreciate the result see the difference without RAG first if we want to focus instead on incorporating the latest news into the non parametric knowlede base."
      ],
      "metadata": {
        "id": "KjhqahU8ME5e"
      }
    },
    {
      "cell_type": "code",
      "source": [
        "prompt = HumanMessage(content=\"Who is the new president of the AI commission in Italy?\")\n",
        "res = chat(messages + [prompt])\n",
        "print(res.content)"
      ],
      "metadata": {
        "colab": {
          "base_uri": "https://localhost:8080/"
        },
        "id": "IHaXhswJMJjx",
        "outputId": "dc1a481a-199a-4ac0-a9fa-277b782dd469"
      },
      "execution_count": 62,
      "outputs": [
        {
          "output_type": "stream",
          "name": "stdout",
          "text": [
            "As an AI language model, I don't have real-time information. Therefore, I'm unable to provide you with the latest updates on the president of the AI commission in Italy. I recommend checking reliable news sources or the official government websites for the most accurate and up-to-date information.\n"
          ]
        }
      ]
    },
    {
      "cell_type": "markdown",
      "source": [
        "The fact that Amato has left the commission and the newly appointed President is a recent information that the pre-trained model does not possess but lies in the new knowledge base stored in the vector db."
      ],
      "metadata": {
        "id": "zCenyzL7MlTt"
      }
    },
    {
      "cell_type": "code",
      "source": [
        "def incorporate_news(query):\n",
        "  \"\"\" function to augment the prompt with the latest news retrieved from the vector database \"\"\"\n",
        "  # here is where you retrieve the info from the vector database\n",
        "  results = collection.get(where = {\"type\" : {'$eq':\"latest_news\"}})\n",
        "\n",
        "  # get the text from the results\n",
        "  source_knowledge = \"\\n\\n\".join(results['documents'])\n",
        "\n",
        "  #feed into an augmented prompt\n",
        "  augmented_prompt = f\"\"\"Using these recent news, answer the query.\n",
        "\n",
        "  News: {source_knowledge}\n",
        "\n",
        "  Query: {query}\n",
        "  \"\"\"\n",
        "  return augmented_prompt"
      ],
      "metadata": {
        "id": "EcX6XICZOui3"
      },
      "execution_count": 80,
      "outputs": []
    },
    {
      "cell_type": "code",
      "source": [
        "prompt = HumanMessage(content=incorporate_news(\"Who is the new president of the AI commission in Italy?\"))\n",
        "res = chat(messages + [prompt])\n",
        "print(res.content)"
      ],
      "metadata": {
        "colab": {
          "base_uri": "https://localhost:8080/"
        },
        "id": "blCJM_5TOCAz",
        "outputId": "b294718c-79e0-4baf-ec0b-3e693ebb786b"
      },
      "execution_count": 89,
      "outputs": [
        {
          "output_type": "stream",
          "name": "stdout",
          "text": [
            "Based on the provided news, the new president of the AI Commission in Italy is Father Paolo Benanti.\n"
          ]
        }
      ]
    },
    {
      "cell_type": "markdown",
      "source": [
        "Consider that here I am manually adding the information in the knowledge base but think about the value provided if the latest_news are scraped programmatically or pulled from a public API. This kind of architecture would be able to update the knowledge base with minimal manual input (clearly all the processing and storage costs issues would have to be properly managed as well)"
      ],
      "metadata": {
        "id": "lryFkM9kO5Pl"
      }
    }
  ]
}